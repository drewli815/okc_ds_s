{
 "cells": [
  {
   "cell_type": "code",
   "execution_count": 3,
   "id": "fbbe6a93",
   "metadata": {},
   "outputs": [],
   "source": [
    "#import packages \n",
    "import pandas as pd\n",
    "import numpy as np"
   ]
  },
  {
   "cell_type": "code",
   "execution_count": 51,
   "id": "301e640d",
   "metadata": {
    "scrolled": true
   },
   "outputs": [
    {
     "data": {
      "text/html": [
       "<div>\n",
       "<style scoped>\n",
       "    .dataframe tbody tr th:only-of-type {\n",
       "        vertical-align: middle;\n",
       "    }\n",
       "\n",
       "    .dataframe tbody tr th {\n",
       "        vertical-align: top;\n",
       "    }\n",
       "\n",
       "    .dataframe thead th {\n",
       "        text-align: right;\n",
       "    }\n",
       "</style>\n",
       "<table border=\"1\" class=\"dataframe\">\n",
       "  <thead>\n",
       "    <tr style=\"text-align: right;\">\n",
       "      <th></th>\n",
       "      <th>team</th>\n",
       "      <th>x</th>\n",
       "      <th>y</th>\n",
       "      <th>fgmade</th>\n",
       "    </tr>\n",
       "  </thead>\n",
       "  <tbody>\n",
       "    <tr>\n",
       "      <th>0</th>\n",
       "      <td>Team A</td>\n",
       "      <td>-23.1</td>\n",
       "      <td>3.5</td>\n",
       "      <td>0</td>\n",
       "    </tr>\n",
       "    <tr>\n",
       "      <th>1</th>\n",
       "      <td>Team A</td>\n",
       "      <td>0.0</td>\n",
       "      <td>25.1</td>\n",
       "      <td>1</td>\n",
       "    </tr>\n",
       "    <tr>\n",
       "      <th>2</th>\n",
       "      <td>Team A</td>\n",
       "      <td>0.5</td>\n",
       "      <td>1.0</td>\n",
       "      <td>1</td>\n",
       "    </tr>\n",
       "    <tr>\n",
       "      <th>3</th>\n",
       "      <td>Team A</td>\n",
       "      <td>-5.6</td>\n",
       "      <td>5.2</td>\n",
       "      <td>0</td>\n",
       "    </tr>\n",
       "    <tr>\n",
       "      <th>4</th>\n",
       "      <td>Team A</td>\n",
       "      <td>4.0</td>\n",
       "      <td>14.5</td>\n",
       "      <td>1</td>\n",
       "    </tr>\n",
       "  </tbody>\n",
       "</table>\n",
       "</div>"
      ],
      "text/plain": [
       "     team     x     y  fgmade\n",
       "0  Team A -23.1   3.5       0\n",
       "1  Team A   0.0  25.1       1\n",
       "2  Team A   0.5   1.0       1\n",
       "3  Team A  -5.6   5.2       0\n",
       "4  Team A   4.0  14.5       1"
      ]
     },
     "execution_count": 51,
     "metadata": {},
     "output_type": "execute_result"
    }
   ],
   "source": [
    "data = pd.read_csv('shots_data.csv')\n",
    "data.head()"
   ]
  },
  {
   "cell_type": "code",
   "execution_count": 32,
   "id": "4d104eb9",
   "metadata": {},
   "outputs": [
    {
     "data": {
      "text/plain": [
       "team       object\n",
       "x         float64\n",
       "y         float64\n",
       "fgmade      int64\n",
       "diag      float64\n",
       "2pt         int64\n",
       "c3pt        int64\n",
       "3pt         int64\n",
       "dtype: object"
      ]
     },
     "execution_count": 32,
     "metadata": {},
     "output_type": "execute_result"
    }
   ],
   "source": [
    "data.dtypes"
   ]
  },
  {
   "cell_type": "code",
   "execution_count": 52,
   "id": "3f09fcbb",
   "metadata": {},
   "outputs": [
    {
     "data": {
      "text/html": [
       "<div>\n",
       "<style scoped>\n",
       "    .dataframe tbody tr th:only-of-type {\n",
       "        vertical-align: middle;\n",
       "    }\n",
       "\n",
       "    .dataframe tbody tr th {\n",
       "        vertical-align: top;\n",
       "    }\n",
       "\n",
       "    .dataframe thead th {\n",
       "        text-align: right;\n",
       "    }\n",
       "</style>\n",
       "<table border=\"1\" class=\"dataframe\">\n",
       "  <thead>\n",
       "    <tr style=\"text-align: right;\">\n",
       "      <th></th>\n",
       "      <th>team</th>\n",
       "      <th>x</th>\n",
       "      <th>y</th>\n",
       "      <th>fgmade</th>\n",
       "      <th>diag</th>\n",
       "    </tr>\n",
       "  </thead>\n",
       "  <tbody>\n",
       "    <tr>\n",
       "      <th>0</th>\n",
       "      <td>Team A</td>\n",
       "      <td>-23.1</td>\n",
       "      <td>3.5</td>\n",
       "      <td>0</td>\n",
       "      <td>23.363647</td>\n",
       "    </tr>\n",
       "    <tr>\n",
       "      <th>1</th>\n",
       "      <td>Team A</td>\n",
       "      <td>0.0</td>\n",
       "      <td>25.1</td>\n",
       "      <td>1</td>\n",
       "      <td>25.100000</td>\n",
       "    </tr>\n",
       "    <tr>\n",
       "      <th>2</th>\n",
       "      <td>Team A</td>\n",
       "      <td>0.5</td>\n",
       "      <td>1.0</td>\n",
       "      <td>1</td>\n",
       "      <td>1.118034</td>\n",
       "    </tr>\n",
       "    <tr>\n",
       "      <th>3</th>\n",
       "      <td>Team A</td>\n",
       "      <td>-5.6</td>\n",
       "      <td>5.2</td>\n",
       "      <td>0</td>\n",
       "      <td>7.641989</td>\n",
       "    </tr>\n",
       "    <tr>\n",
       "      <th>4</th>\n",
       "      <td>Team A</td>\n",
       "      <td>4.0</td>\n",
       "      <td>14.5</td>\n",
       "      <td>1</td>\n",
       "      <td>15.041609</td>\n",
       "    </tr>\n",
       "  </tbody>\n",
       "</table>\n",
       "</div>"
      ],
      "text/plain": [
       "     team     x     y  fgmade       diag\n",
       "0  Team A -23.1   3.5       0  23.363647\n",
       "1  Team A   0.0  25.1       1  25.100000\n",
       "2  Team A   0.5   1.0       1   1.118034\n",
       "3  Team A  -5.6   5.2       0   7.641989\n",
       "4  Team A   4.0  14.5       1  15.041609"
      ]
     },
     "execution_count": 52,
     "metadata": {},
     "output_type": "execute_result"
    }
   ],
   "source": [
    "#create column for diagonal\n",
    "\n",
    "data['diag'] = data.apply(lambda x: np.sqrt((x['x'] ** 2) + (x['y'] ** 2)), axis =1)\n",
    "data.head()"
   ]
  },
  {
   "cell_type": "code",
   "execution_count": 24,
   "id": "66975393",
   "metadata": {},
   "outputs": [],
   "source": [
    "#if y <= 7.8 and x >= 22.0 then it's corner three\n",
    "#if y<= 7.8 and x < 22.0 then it's 2pt fg\n",
    "#if y > 7.8 and diag is >= 23.75 then it's 3pt \n",
    "# if y <7.8 and diag is < 23.75 then it's 2pt fg\n",
    "def two(x):\n",
    "    if x['y'] <= 7.8: \n",
    "        if x['x'] < 22: return 1\n",
    "        else: return 0\n",
    "    else:\n",
    "        if x['diag'] < 23.75: return 1\n",
    "        else: return 0\n",
    "def three(x):\n",
    "    if x['y'] <= 7.8: \n",
    "        if x['x'] >= 22: return 1\n",
    "        else: return 0\n",
    "    else:\n",
    "        return 0\n",
    "data['2pt'] = data.apply(two, axis = 1)\n",
    "data['c3pt'] = data.apply(three, axis = 1)\n",
    "data['3pt'] = data.apply(lambda x: 1 if x['c3pt'] == 0 and x['2pt'] == 0 else 0, axis = 1)"
   ]
  },
  {
   "cell_type": "code",
   "execution_count": 29,
   "id": "eda7637e",
   "metadata": {},
   "outputs": [],
   "source": [
    "#create team subsets\n",
    "\n",
    "#team a\n",
    "data_a = data[data['team'] == 'Team A']\n",
    "#team b\n",
    "data_b = data[data['team'] == 'Team B']"
   ]
  },
  {
   "cell_type": "code",
   "execution_count": 34,
   "id": "83d1028f",
   "metadata": {},
   "outputs": [],
   "source": [
    "#find the shot distribution for each team\n",
    "\n",
    "#2pt \n",
    "two_distr_a = len(data_a[data_a['2pt'] == 1]) / len(data_a)\n",
    "two_distr_b = len(data_b[data_b['2pt'] == 1]) / len(data_b)\n",
    "\n",
    "#c3\n",
    "c3_distr_a = len(data_a[data_a['c3pt'] == 1]) / len(data_a)\n",
    "c3_distr_b = len(data_b[data_b['c3pt'] == 1]) / len(data_b)\n",
    "\n",
    "#3pt\n",
    "nc3_distr_a = len(data_a[data_a['3pt'] == 1]) / len(data_a)\n",
    "nc3_distr_b = len(data_b[data_b['3pt'] == 1]) / len(data_b)\n",
    "\n"
   ]
  },
  {
   "cell_type": "code",
   "execution_count": 50,
   "id": "77e1b230",
   "metadata": {},
   "outputs": [
    {
     "name": "stdout",
     "output_type": "stream",
     "text": [
      "Team A:\n",
      "2_pointers: 0.6392857142857142 Corner 3s: 0.039285714285714285 Non_Corner 3s: 0.32142857142857145\n",
      "Team B\n",
      "2_pointers: 0.6142857142857143 Corner 3s: 0.04285714285714286 Non_Corner 3s: 0.34285714285714286\n"
     ]
    }
   ],
   "source": [
    "print('Team A:')\n",
    "print('2_pointers: ' + str(two_distr_a) +  ' Corner 3s: ' + str(c3_distr_a) + ' Non_Corner 3s: ' + str(nc3_distr_a))\n",
    "\n",
    "print('Team B')\n",
    "print('2_pointers: ' + str(two_distr_b) +  ' Corner 3s: ' + str(c3_distr_b) + ' Non_Corner 3s: ' + str(nc3_distr_b))\n"
   ]
  },
  {
   "cell_type": "code",
   "execution_count": 36,
   "id": "45110b33",
   "metadata": {},
   "outputs": [
    {
     "name": "stdout",
     "output_type": "stream",
     "text": [
      "Team A efG%: 0.4375\n",
      "Team B efG%: 0.4785714285714286\n"
     ]
    }
   ],
   "source": [
    "#efg \n",
    "\n",
    "#team A\n",
    "makesA = data_a[data_a['fgmade'] == 1]\n",
    "c3pa = len(makesA[makesA['c3pt'] == 1])\n",
    "threesA = len(makesA[makesA['3pt'] == 1])\n",
    "fga1 = len(data_a)\n",
    "efgA = (len(makesA) + (.5 * (c3pa + threesA))) / len(data_a)\n",
    "\n",
    "#team B\n",
    "makesB = data_b[data_b['fgmade'] == 1]\n",
    "c3pb = len(makesB[makesB['c3pt'] == 1])\n",
    "threesB = len(makesB[makesB['3pt'] == 1])\n",
    "fga2 = len(data_b)\n",
    "efgB = (len(makesB) + (.5 * (c3pb + threesB))) / len(data_b)\n",
    "\n",
    "print('Team A efG%: ' + str(efgA))\n",
    "print('Team B efG%: ' + str(efgB))"
   ]
  },
  {
   "cell_type": "code",
   "execution_count": null,
   "id": "5316513c",
   "metadata": {},
   "outputs": [],
   "source": []
  }
 ],
 "metadata": {
  "kernelspec": {
   "display_name": "Python 3",
   "language": "python",
   "name": "python3"
  },
  "language_info": {
   "codemirror_mode": {
    "name": "ipython",
    "version": 3
   },
   "file_extension": ".py",
   "mimetype": "text/x-python",
   "name": "python",
   "nbconvert_exporter": "python",
   "pygments_lexer": "ipython3",
   "version": "3.8.8"
  }
 },
 "nbformat": 4,
 "nbformat_minor": 5
}
